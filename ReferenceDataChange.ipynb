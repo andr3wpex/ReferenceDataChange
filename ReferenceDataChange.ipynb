{
 "cells": [
  {
   "cell_type": "code",
   "execution_count": null,
   "id": "included-civilization",
   "metadata": {},
   "outputs": [],
   "source": [
    "import pandas as pd\n",
    "import yfinance as yf\n",
    "import datetime\n",
    "\n",
    "# display entire table\n",
    "pd.set_option('display.max_rows', None)"
   ]
  },
  {
   "cell_type": "code",
   "execution_count": null,
   "id": "ee770778-2dbf-455a-bf17-3a2e500a889a",
   "metadata": {},
   "outputs": [],
   "source": [
    "start, end = \"2021-07-01\", \"2021-08-05\"\n",
    "ticker = 'aapl'"
   ]
  },
  {
   "cell_type": "markdown",
   "id": "13b1775e-0827-409f-9744-c969b975f437",
   "metadata": {},
   "source": [
    "#### Generate dummy reference data\n",
    "Errors and changes added to reference_df"
   ]
  },
  {
   "cell_type": "code",
   "execution_count": null,
   "id": "36713246-6b42-47c4-9598-229a76356440",
   "metadata": {},
   "outputs": [],
   "source": [
    "n, m = 18, 8\n",
    "date_range = pd.date_range(start=start, end=end)\n",
    "currency = ['USD'] * (len(date_range) - n) + ['EUR'] * n\n",
    "industry = ['Technology'] * (len(date_range) - m) + ['Tech'] * 5 + ['Technology'] * (m-5)\n",
    "region = ['EMEA'] * (len(date_range) - 2) + ['APAC'] *2 \n",
    "\n",
    "d = {'day': date_range, 'currency': currency, 'industry': industry, 'region': region}\n",
    "reference_df = pd.DataFrame(data=d)\n",
    "reference_df.loc[8:10, ['currency', 'industry', 'region']] = ['N/A', 'N/A', 'N/A']\n",
    "reference_df.set_index('day', inplace=True)\n",
    "reference_df"
   ]
  },
  {
   "cell_type": "markdown",
   "id": "structured-formula",
   "metadata": {},
   "source": [
    "#### Get historical stock prices (variable=ticker)\n",
    "stock_price"
   ]
  },
  {
   "cell_type": "code",
   "execution_count": null,
   "id": "19ff4127-2007-4d1e-b6cf-f504429675ca",
   "metadata": {},
   "outputs": [],
   "source": [
    "stock_price = yf.Ticker(ticker).history(start=start, end=end)\n",
    "stock_price.index = pd.to_datetime(stock_price.index)\n",
    "stock_price = stock_price.iloc[:, :5]\n",
    "stock_price"
   ]
  },
  {
   "cell_type": "markdown",
   "id": "aa70db3c-dc53-4d31-b8d8-d5a5be1ad291",
   "metadata": {},
   "source": [
    "#### Drop non trading days from the reference_df"
   ]
  },
  {
   "cell_type": "code",
   "execution_count": null,
   "id": "e1433572-bf04-482d-b0d9-8592d42663bd",
   "metadata": {},
   "outputs": [],
   "source": [
    "reference_df = reference_df[reference_df.index.isin(stock_price.index)]\n",
    "reference_df"
   ]
  },
  {
   "cell_type": "markdown",
   "id": "48567582-9994-4331-b656-b0d4724889d6",
   "metadata": {},
   "source": [
    "#### Capture changes in reference_df"
   ]
  },
  {
   "cell_type": "code",
   "execution_count": null,
   "id": "7ca71d6e-18f9-40b4-b0a5-2402fe9e941d",
   "metadata": {
    "tags": []
   },
   "outputs": [],
   "source": [
    "ref_df_unpivoted = reference_df.reset_index().melt(id_vars='day').set_index(['day', 'variable'])\n",
    "ref_df_unpivoted.sort_index(inplace=True)\n",
    "ref_df_unpivoted.tail(12)"
   ]
  },
  {
   "cell_type": "code",
   "execution_count": null,
   "id": "630c508f-38a5-4899-a01e-043764279af8",
   "metadata": {},
   "outputs": [],
   "source": [
    "from pprint import pprint\n",
    "change = []\n",
    "for i in range(len(reference_df.index)-1):\n",
    "    for j in range(len(reference_df.columns)):\n",
    "        chg = (reference_df.iloc[[i]].index[0], reference_df.columns[j], reference_df.iloc[i, j]!=reference_df.iloc[i+1, j])\n",
    "        change.append(chg)\n",
    "\n",
    "# List of tuples - similar to an unpivoted structure-\n",
    "# within each tuple the 1st item: day, 2nd: field, 3rd: True/False indicating changes\n",
    "pprint(change[10:20])\n",
    "\n",
    "changes_df = pd.DataFrame(change, columns= ['day', 'variable', 'changed']).set_index(['day', 'variable'])\n",
    "\n",
    "# keep only the changes\n",
    "changes_df = changes_df[changes_df['changed']==True].drop(['changed'], axis=1)\n",
    "\n",
    "# populate changes_df with data\n",
    "changes_df = changes_df.merge(ref_df_unpivoted, left_index=True, right_index=True)\n",
    "changes_df = changes_df.sort_index()\n",
    "\n",
    "\n",
    "display(changes_df)"
   ]
  },
  {
   "cell_type": "code",
   "execution_count": null,
   "id": "6ecad49e-03bc-4a1d-a9bc-779891debf1d",
   "metadata": {},
   "outputs": [],
   "source": [
    "forever = pd.to_datetime('2222-12-31') - pd.Timedelta(seconds=1)\n",
    "\n",
    "reference_df_start = reference_df.iloc[[0]].reset_index()\n",
    "reference_df_start.rename(columns={'day': 'valid_from'}, inplace=True)\n",
    "reference_df_start['valid_from'] = reference_df_start['valid_from'] # + pd.Timedelta(seconds=1)\n",
    "# adding 1 day minus a second\n",
    "\n",
    "#every time where there is a change, the valid_to changes to \"forever - 1 second\" and valid_from to the day of a change\n",
    "reference_df_start['valid_to'] = forever\n",
    "\n",
    "reference_df_start = reference_df_start[['valid_from', 'valid_to', 'currency', 'industry', 'region']]\n",
    "reference_df_start.set_index('valid_from', inplace=True)\n",
    "reference_df_start"
   ]
  },
  {
   "cell_type": "code",
   "execution_count": null,
   "id": "38d32aa0-240c-4cbf-a90d-b4270b71304d",
   "metadata": {},
   "outputs": [],
   "source": [
    "# adding changes\n",
    "changes_pivot_df = changes_df.reset_index()\n",
    "changes_pivot_df = changes_pivot_df.pivot(index='day', columns='variable', values='value')\n",
    "changes_pivot_df.fillna(method='ffill', inplace=True)\n",
    "display(changes_pivot_df)"
   ]
  },
  {
   "cell_type": "code",
   "execution_count": null,
   "id": "03d7c22b-54b0-4a6e-b9f0-a4aae0d6c8c1",
   "metadata": {},
   "outputs": [],
   "source": [
    "df = pd.concat([reference_df_start, changes_pivot_df])\n",
    "df.index.rename('valid_from', inplace=True)\n",
    "df = df.reset_index()\n",
    "display(df)\n",
    "# df.reset_index()"
   ]
  },
  {
   "cell_type": "code",
   "execution_count": null,
   "id": "dfbd5a15-4f4b-402f-9845-427f03ef9c72",
   "metadata": {},
   "outputs": [],
   "source": [
    "for row in range(df.shape[0]-1):\n",
    "    valid_to = df.iloc[row + 1 , 0] - pd.Timedelta(seconds=1)\n",
    "    df.loc[row, 'valid_to'] = valid_to\n",
    "    \n",
    "# the last value should have no expiry -> valid to = forever\n",
    "df.iloc[-1, 1] =  forever\n",
    "display(df)"
   ]
  }
 ],
 "metadata": {
  "kernelspec": {
   "display_name": "Python 3",
   "language": "python",
   "name": "python3"
  },
  "language_info": {
   "codemirror_mode": {
    "name": "ipython",
    "version": 3
   },
   "file_extension": ".py",
   "mimetype": "text/x-python",
   "name": "python",
   "nbconvert_exporter": "python",
   "pygments_lexer": "ipython3",
   "version": "3.9.6"
  }
 },
 "nbformat": 4,
 "nbformat_minor": 5
}
